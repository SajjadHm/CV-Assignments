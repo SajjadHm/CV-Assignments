{
 "cells": [
  {
   "cell_type": "markdown",
   "metadata": {
    "id": "b3x3Nl7-bdsj"
   },
   "source": [
    "<h1 align=\"center\">\n",
    "<img src=\"https://drive.google.com/uc?export=view&id=1_ZkE3dnYg9KykzdZE6lIK2s_q_nbiKk_\" width=\"160\" height=\"160\">\n",
    "</h1>\n",
    "<h5 align=\"center\">Sharif University of Technology<br/>Electrical Engineering Department<br/>Fall 2023</h5>\n",
    "\n",
    "---\n",
    "\n",
    "\n",
    "# Python Problem Set 01\n",
    "\n",
    "\n",
    "> **Instructions:**\n",
    "> * You will be using Python 3.\n",
    "> * Please upload your assignment on CW.\n",
    "> * Your file name should be in format of ***PythonHW#_Name_ID***\n",
    "> * Do not copy other students’ answers.\n",
    "\n",
    "\n"
   ]
  },
  {
   "cell_type": "code",
   "execution_count": 1,
   "metadata": {
    "colab": {
     "base_uri": "https://localhost:8080/"
    },
    "id": "dW-cSYh0cGfb",
    "outputId": "5d56cd0a-130f-48ce-b2ef-c9bce95b5de0"
   },
   "outputs": [
    {
     "name": "stdout",
     "output_type": "stream",
     "text": [
      "StudentName:Sajjad Hashembeiki , StudentID:98107077\n"
     ]
    }
   ],
   "source": [
    "### Please Fill the following entries\n",
    "StudentName = \"Sajjad Hashembeiki\"\n",
    "StudentID   = \"98107077\"\n",
    "\n",
    "print (f'StudentName:{StudentName} , StudentID:{StudentID}')"
   ]
  },
  {
   "cell_type": "markdown",
   "metadata": {
    "id": "2ab258e1"
   },
   "source": [
    "## 1.(4 pts)\n",
    "What are the lengths of the following lists and strings below? Fill in the variable `lengths` with your predictions. (Try to make a prediction for each list *without* just calling `len()` on it.)"
   ]
  },
  {
   "cell_type": "code",
   "execution_count": 2,
   "metadata": {
    "id": "ef188312"
   },
   "outputs": [
    {
     "data": {
      "text/plain": [
       "[3, 2, 2, 2, 0, 1, 3, 7, 8, 0, 2, 2, 1, 35]"
      ]
     },
     "execution_count": 2,
     "metadata": {},
     "output_type": "execute_result"
    }
   ],
   "source": [
    "a = [1, 2, 3]\n",
    "b = [1, [2, 3]]\n",
    "c = [1, [2, 3,[4 ,5]]] #Think about the lenght of c and length of c[1]\n",
    "d = [[1,2] , [3, 4]]\n",
    "e = []\n",
    "f = [[]]\n",
    "g = [1, 2, 3, 4, 5][1:4]\n",
    "h = 'it\\'s ok'\n",
    "i = 'it\\\\\\'s ok'\n",
    "j = \"\"\n",
    "k = \"\"\"Ok\"\"\"\n",
    "l = '\\n\\n'\n",
    "m = '\\t'\n",
    "n = 5*(h+''+j)\n",
    "# Put your predictions in the list below. Lengths should contain 14 numbers, the\n",
    "# first being the length of a, the second being the length of b and so on.\n",
    "\n",
    "### START CODE HERE ###\n",
    "lengths = [3,2,2,2,0,1,3,7,8,0,2,2,1,35]\n",
    "### END CODE HERE ###\n",
    "\n",
    "lengths"
   ]
  },
  {
   "cell_type": "markdown",
   "metadata": {
    "id": "dKIP8WHd8eJh"
   },
   "source": [
    "## 2.(7 pts)\n",
    "Write a function that gets an integer as input and returns the factorial as the output."
   ]
  },
  {
   "cell_type": "code",
   "execution_count": 3,
   "metadata": {
    "id": "YR02cuVL8eKS"
   },
   "outputs": [
    {
     "name": "stdout",
     "output_type": "stream",
     "text": [
      "Error\n",
      "1\n",
      "120\n"
     ]
    }
   ],
   "source": [
    "def factorial(x):\n",
    "    out = 'Error'\n",
    "    ### START CODE HERE ###\n",
    "    if(x<0):\n",
    "        pass\n",
    "    else:\n",
    "        if(x==0):\n",
    "            return 1\n",
    "        out = x*factorial(x-1)\n",
    "\n",
    "    ### END CODE HERE ###\n",
    "\n",
    "    return out\n",
    "\n",
    "\n",
    "print(factorial(-1))\n",
    "print(factorial(0))\n",
    "print(factorial(5))"
   ]
  },
  {
   "cell_type": "markdown",
   "metadata": {
    "id": "SG9eJ82C8eKc"
   },
   "source": [
    "## 3.(13 pts)\n",
    "A list of 30 tuples with random integers is given. Write a function that gets the list and index of tuple element which we want to sort based on (1st or 2nd) and return the sorted list in ascending order. In case of equal numbers, sort according to the other element. Example:\n",
    "\n",
    "\n",
    "```\n",
    "x = [(10,47),(15,47),(77,23),(15,34)]\n",
    "# sort list based on first element of tuples\n",
    "idx = 0\n",
    "result = [(10,47),(15,34),(15,47),(77,23)]\n",
    "# sort list based on second element of tuples\n",
    "idx = 1\n",
    "result = [(77,23),(15,34),(10,47),(15,47)]\n",
    "```\n",
    "\n"
   ]
  },
  {
   "cell_type": "code",
   "execution_count": 4,
   "metadata": {
    "id": "_oR_oL5O8eKd"
   },
   "outputs": [
    {
     "name": "stdout",
     "output_type": "stream",
     "text": [
      "Original list:\n",
      "[(21, 1), (21, 28), (10, 32), (48, 1), (36, 38), (14, 8), (33, 25), (28, 19), (40, 42), (28, 2), (32, 35), (8, 14), (48, 2), (50, 35), (37, 20), (38, 16), (2, 49), (50, 30), (8, 11), (36, 46), (32, 31), (24, 35), (3, 46), (4, 25), (38, 45), (14, 1), (49, 25), (11, 27), (18, 5), (27, 7)]\n",
      "Sorted list based on 1st element:\n",
      "[(2, 49), (3, 46), (4, 25), (8, 11), (8, 14), (10, 32), (11, 27), (14, 1), (14, 8), (18, 5), (21, 1), (21, 28), (24, 35), (27, 7), (28, 2), (28, 19), (32, 31), (32, 35), (33, 25), (36, 38), (36, 46), (37, 20), (38, 16), (38, 45), (40, 42), (48, 1), (48, 2), (49, 25), (50, 30), (50, 35)]\n",
      "Sorted list based on 2nd element:\n",
      "[(21, 1), (48, 1), (14, 1), (28, 2), (48, 2), (18, 5), (27, 7), (14, 8), (8, 11), (8, 14), (38, 16), (28, 19), (37, 20), (33, 25), (4, 25), (49, 25), (11, 27), (21, 28), (50, 30), (32, 31), (10, 32), (32, 35), (50, 35), (24, 35), (36, 38), (40, 42), (38, 45), (36, 46), (3, 46), (2, 49)]\n"
     ]
    }
   ],
   "source": [
    "import random\n",
    "\n",
    "def sort_list(tuple_list, idx):\n",
    "    sorted_list = []\n",
    "\n",
    "    ### START CODE HERE ###\n",
    "    if(idx==0):\n",
    "        sorted_list = sorted(tuple_list)\n",
    "    elif(idx==1):\n",
    "        sorted_list = sorted(tuple_list, key = lambda x :x[1])\n",
    "        \n",
    "    ### END CODE HERE ###\n",
    "\n",
    "    return sorted_list\n",
    "\n",
    "\n",
    "# tuple_list =  [(10,47),(15,47),(77,23),(15,34)]\n",
    "tuple_list = [(random.randint(1,50), random.randint(1, 50)) for i in range(30)]\n",
    "\n",
    "\n",
    "\n",
    "\n",
    "print('Original list:')\n",
    "print(tuple_list)\n",
    "\n",
    "idx = 0\n",
    "print('Sorted list based on 1st element:')\n",
    "print(sort_list(tuple_list, idx))\n",
    "\n",
    "idx = 1\n",
    "print('Sorted list based on 2nd element:')\n",
    "print(sort_list(tuple_list, idx))"
   ]
  },
  {
   "cell_type": "markdown",
   "metadata": {
    "id": "Fh7W6BTlb2yO"
   },
   "source": [
    "## 4.(9 pts)\n",
    "Complete the body of the function below according to its docstring."
   ]
  },
  {
   "cell_type": "code",
   "execution_count": 5,
   "metadata": {
    "id": "roHbRofDb2yW"
   },
   "outputs": [
    {
     "name": "stdout",
     "output_type": "stream",
     "text": [
      "[1501, 1539, 1577, 1615, 1653, 1691, 1729, 1767, 1805, 1843, 1881, 1919, 1957, 1995, 2033, 2071, 2109, 2147, 2185]\n"
     ]
    }
   ],
   "source": [
    "def my_func(a,b):\n",
    "    \"\"\"Write a function that get two numbers and return a list contaioning all such numbers which are divisble by first number and\n",
    "    not a multiple of second one, between 1500 and 2200 (both included).\n",
    "    \"\"\"\n",
    "    result = []\n",
    "    ### START CODE HERE ###\n",
    "    for i in range(1500,2201):\n",
    "        if(i%a==0 and i%b!=0):\n",
    "            result.append(i)\n",
    "\n",
    "    ### END CODE HERE ###\n",
    "\n",
    "    return result\n",
    "\n",
    "\n",
    "print(my_func(19, 2))"
   ]
  },
  {
   "cell_type": "markdown",
   "metadata": {
    "id": "7bHOPT0Bb2ya"
   },
   "source": [
    "## 5.(9 pts)\n",
    "\n",
    "Complete the body of the function below that takes a string `text` as its input. The function should count the number of vowels and consonants in the given string and return a dictionary containing the counts of vowels and consonants.\n",
    "For this exercise, consider only the English alphabet and ignore any numbers, spaces, or special characters. The input string will be in lowercase. Example:\n",
    "\n",
    "```\n",
    "Input: \"hello world\"\n",
    "Output: {\"vowels\": 3, \"consonants\": 7}\n",
    "```\n",
    "\n"
   ]
  },
  {
   "cell_type": "code",
   "execution_count": 6,
   "metadata": {
    "id": "XfKDiJnmb2yc"
   },
   "outputs": [
    {
     "name": "stdout",
     "output_type": "stream",
     "text": [
      "{'vowels': 3, 'consonants': 7}\n",
      "{'vowels': 4, 'consonants': 13}\n"
     ]
    }
   ],
   "source": [
    "def count_vowels_and_consonants(text):\n",
    "    vowel_count = 0\n",
    "    consonant_count = 0\n",
    "\n",
    "    ### START CODE HERE ###\n",
    "    vowels = 'aeiou'\n",
    "    for i in range(len(text)):\n",
    "        if(text[i] in vowels):\n",
    "            vowel_count += 1\n",
    "        elif(text[i].isalpha()):\n",
    "            consonant_count += 1\n",
    "        \n",
    "    ### END CODE HERE ###\n",
    "\n",
    "    return {\"vowels\": vowel_count, \"consonants\": consonant_count}\n",
    "\n",
    "\n",
    "print(count_vowels_and_consonants(\"hello world\"))\n",
    "print(count_vowels_and_consonants(\"python programming\"))"
   ]
  },
  {
   "cell_type": "markdown",
   "metadata": {
    "id": "7h4sIJUNuVIw"
   },
   "source": [
    "## 6.(10 pts)\n",
    "Write a function that takes a list of positive integers as input and returns `True` if all elements are prime numbers.\n",
    "> Hint: first write a function to check if a number is prime\n"
   ]
  },
  {
   "cell_type": "code",
   "execution_count": 7,
   "metadata": {
    "id": "b45e253a"
   },
   "outputs": [
    {
     "name": "stdout",
     "output_type": "stream",
     "text": [
      "False\n",
      "True\n",
      "False\n"
     ]
    }
   ],
   "source": [
    "a = [8, 3, 4, 7, 9]\n",
    "b = [3, 5, 7, 13]\n",
    "c = [1, 5, 3]\n",
    "\n",
    "### START CODE HERE ###\n",
    "# This function checks a number\n",
    "def is_prime(num):\n",
    "    if num==2:\n",
    "        return True\n",
    "    flag = 0\n",
    "    for i in range(1,num):\n",
    "        if num%i == 0:\n",
    "            flag +=1\n",
    "    if flag==1:\n",
    "        return True\n",
    "    else:\n",
    "        return False\n",
    "\n",
    "#the main funtion checks a list of numbers\n",
    "def is_all_prime(x):\n",
    "    if False in [is_prime(i) for i in x]:\n",
    "        return False\n",
    "    return True\n",
    "\n",
    "### END CODE HERE ###\n",
    "\n",
    "print(is_all_prime(a))\n",
    "print(is_all_prime(b))\n",
    "print(is_all_prime(c))"
   ]
  },
  {
   "cell_type": "markdown",
   "metadata": {
    "id": "7b8cc97f"
   },
   "source": [
    "## 7.(4 pts)\n",
    "There is a problem with the piece of code below. Try to identify the problem and fix it."
   ]
  },
  {
   "cell_type": "code",
   "execution_count": 8,
   "metadata": {
    "id": "f833e9ef"
   },
   "outputs": [
    {
     "name": "stdout",
     "output_type": "stream",
     "text": [
      "[4, 6, 9, 2, 4]\n",
      "False\n",
      "[6, 8, 9, 12, 1, 21]\n",
      "True\n"
     ]
    }
   ],
   "source": [
    "def has_lucky_number(nums):\n",
    "    \"\"\"Return whether the given list of numbers is lucky. A lucky list contains\n",
    "    at least one number divisible by 7.\n",
    "    \"\"\"\n",
    "    #all the numbers in nums should be checked so I removed the else block\n",
    "    out = False\n",
    "    for num in nums:\n",
    "        if num % 7 == 0:\n",
    "            return True\n",
    "    return False\n",
    "\n",
    "#let's test the function\n",
    "nums = [4,6,9,2,4]\n",
    "print(nums)\n",
    "print(has_lucky_number(nums))\n",
    "nums = [6,8,9,12,1,21]\n",
    "print(nums)\n",
    "print(has_lucky_number(nums))"
   ]
  },
  {
   "cell_type": "markdown",
   "metadata": {
    "id": "a1c83bc6"
   },
   "source": [
    "## 8.(9 pts)\n",
    "Write a function which takes a tuple of 2 integers `(X,Y)` as input and returns a 2-dimensional list. The element value in the i-th row and j-th column of the array should be `i*j`. Note: `i=0,1.., X-1; j=0,1,..,Y-1`.\n",
    "\n",
    "Example:\n",
    "\n",
    "\n",
    "```\n",
    "input : (3,5)\n",
    "output: [[0, 0, 0, 0, 0], [0, 1, 2, 3, 4], [0, 2, 4, 6, 8]]\n",
    "```\n",
    "\n"
   ]
  },
  {
   "cell_type": "code",
   "execution_count": 9,
   "metadata": {
    "id": "0034ef29"
   },
   "outputs": [
    {
     "name": "stdout",
     "output_type": "stream",
     "text": [
      "[[0, 0, 0, 0, 0], [0, 1, 2, 3, 4], [0, 2, 4, 6, 8]]\n"
     ]
    }
   ],
   "source": [
    "def generate_multidim_list(dimensions):\n",
    "    multilist = []\n",
    "\n",
    "    ### START CODE HERE ###\n",
    "    num_row = dimensions[0]\n",
    "    num_column = dimensions[1]\n",
    "    for i in range(num_row):\n",
    "        multilist.append([i*j for j in range(num_column)])\n",
    "\n",
    "    ### END CODE HERE ###\n",
    "    return multilist\n",
    "\n",
    "dimensions = (3,5)\n",
    "print(generate_multidim_list(dimensions))"
   ]
  },
  {
   "cell_type": "markdown",
   "metadata": {
    "id": "391f8d6c"
   },
   "source": [
    "## 9.(9 pts)\n",
    "Write a function to print the given list after removing all duplicate values with original order reserved. Example:\n",
    "\n",
    "\n",
    "```\n",
    "input list: [12,24,35,24,88,120,155,88,120,155]\n",
    "printed list: [12,24,35,88,120,155]\n",
    "```\n"
   ]
  },
  {
   "cell_type": "code",
   "execution_count": 10,
   "metadata": {
    "id": "OoHjh1TTJLZo"
   },
   "outputs": [
    {
     "name": "stdout",
     "output_type": "stream",
     "text": [
      "[12, 24, 35, 88, 120, 155]\n"
     ]
    }
   ],
   "source": [
    "def removeDuplicate( lst ):\n",
    "    new_list=[]\n",
    "    ### START CODE HERE ###\n",
    "    \n",
    "    #Think reversely!\n",
    "    lst.reverse()\n",
    "    for num in range(len(lst)):\n",
    "        temp=lst[0]\n",
    "        lst.remove(lst[0])\n",
    "        if temp in lst:\n",
    "            pass\n",
    "        else:\n",
    "            new_list.append(temp)\n",
    "    new_list.reverse()\n",
    "\n",
    "    ### END CODE HERE ###\n",
    "    print(new_list)\n",
    "\n",
    "lst=[12,24,35,24,88,120,155,88,120,155]\n",
    "removeDuplicate(lst)"
   ]
  },
  {
   "cell_type": "markdown",
   "metadata": {
    "id": "cc3e38bf"
   },
   "source": [
    "## 10.(7 pts)\n",
    "Write a program that accepts a sentence and calculate the number of letters and digits. Example:\n",
    "```\n",
    "input: hello world! 123\n",
    "output:\n",
    "DIGITS 3\n",
    "LETTERS 10\n",
    "````"
   ]
  },
  {
   "cell_type": "code",
   "execution_count": 11,
   "metadata": {
    "id": "XWDpd6awSZE6"
   },
   "outputs": [
    {
     "name": "stdout",
     "output_type": "stream",
     "text": [
      "Input your sntetce: 33 ## 1 .,/ dd GG\n",
      "33 ## 1 .,/ dd GG\n",
      "{'DIGITS': 3, 'LETTERS': 4}\n"
     ]
    }
   ],
   "source": [
    "s = str(input(\"Input your sntetce: \"))\n",
    "d={\"DIGITS\":0, \"LETTERS\":0}\n",
    "\n",
    "### START CODE HERE ###\n",
    "for char in s:\n",
    "    if char.isdigit():\n",
    "        d['DIGITS']+=1\n",
    "    elif char.isalpha():\n",
    "        d['LETTERS']+=1\n",
    "    \n",
    "### END CODE HERE ###\n",
    "\n",
    "print(s)\n",
    "print(d)"
   ]
  },
  {
   "cell_type": "markdown",
   "metadata": {
    "id": "rACs4nT4U4hd"
   },
   "source": [
    "## 11.(9 pts)\n",
    "Write a function to find all possible pairs in a list whose sum is equal to a given value.\n",
    "\n",
    "\n",
    "```\n",
    "list = [1,2,3,4,5,6,7,8,9]\n",
    "val = 5\n",
    "output = [(3, 2), (4, 1)]\n",
    "```\n",
    "\n"
   ]
  },
  {
   "cell_type": "code",
   "execution_count": 12,
   "metadata": {
    "id": "3CAf_3JsTOwT"
   },
   "outputs": [
    {
     "name": "stdout",
     "output_type": "stream",
     "text": [
      "Original list:\n",
      "[1, 2, 3, 4, 5, 6, 7, 8, 9]\n",
      "List of all pairs with given sum: 10\n",
      "[(1, 9), (2, 8), (3, 7), (4, 6)]\n",
      "List of all pairs with given sum: 35\n",
      "[]\n",
      "List of all pairs with given sum: 5\n",
      "[(1, 4), (2, 3)]\n"
     ]
    }
   ],
   "source": [
    "\n",
    "def find_pairs(lst, val):\n",
    "    pairs = []\n",
    "    ### START CODE HERE ###\n",
    "    for i in range(len(lst)-1):\n",
    "        for j in range(i+1,len(lst)):\n",
    "            if(lst[i]+ lst[j]==val):\n",
    "                pairs.append((lst[i],lst[j]))\n",
    "\n",
    "    ### END CODE HERE ###\n",
    "    return pairs\n",
    "\n",
    "nums = [1,2,3,4,5,6,7,8,9]\n",
    "print(\"Original list:\")\n",
    "print(nums)\n",
    "\n",
    "val = 10\n",
    "print(\"List of all pairs with given sum:\",val)\n",
    "print(find_pairs(nums,val))\n",
    "\n",
    "val = 35\n",
    "print(\"List of all pairs with given sum:\",val)\n",
    "print(find_pairs(nums,val))\n",
    "\n",
    "val = 5\n",
    "print(\"List of all pairs with given sum:\",val)\n",
    "print(find_pairs(nums,val))"
   ]
  },
  {
   "cell_type": "markdown",
   "metadata": {
    "id": "e89c75ed"
   },
   "source": [
    "## 12.(10 pts)\n",
    "Write a Python program to calculate the sum of positive and negative values of a given list using the `lambda` function."
   ]
  },
  {
   "cell_type": "code",
   "execution_count": 13,
   "metadata": {
    "id": "_Ii48Mv4aJAK"
   },
   "outputs": [
    {
     "name": "stdout",
     "output_type": "stream",
     "text": [
      "Original list: [2, 4, -6, -9, 11, -12, 14, -5, 17]\n",
      "Sum of positive values:  48\n",
      "Sum of negative values:  -32\n"
     ]
    }
   ],
   "source": [
    "nums = [2, 4, -6, -9, 11, -12, 14, -5, 17]\n",
    "negative_sum = 0\n",
    "positive_sum = 0\n",
    "print(\"Original list:\",nums)\n",
    "\n",
    "### START CODE HERE ###\n",
    "negative_sum = sum(filter(lambda nums : nums<0 , nums))\n",
    "positive_sum = sum(filter(lambda nums : nums>0 , nums))\n",
    "### END CODE HERE ###\n",
    "\n",
    "print(\"Sum of positive values: \",positive_sum)\n",
    "print(\"Sum of negative values: \",negative_sum)"
   ]
  }
 ],
 "metadata": {
  "colab": {
   "provenance": []
  },
  "kernelspec": {
   "display_name": "Python 3 (ipykernel)",
   "language": "python",
   "name": "python3"
  },
  "language_info": {
   "codemirror_mode": {
    "name": "ipython",
    "version": 3
   },
   "file_extension": ".py",
   "mimetype": "text/x-python",
   "name": "python",
   "nbconvert_exporter": "python",
   "pygments_lexer": "ipython3",
   "version": "3.10.10"
  }
 },
 "nbformat": 4,
 "nbformat_minor": 1
}
