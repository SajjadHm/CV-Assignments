{
  "cells": [
    {
      "cell_type": "markdown",
      "metadata": {
        "id": "F83EHs83Am0w"
      },
      "source": [
        "#Python tutorial 1/2\n",
        "\n",
        "This tutorial covers the key Python skills you’ll need so you can start using Python.\n",
        "\n",
        "* 0. Install Python\n",
        "* 1. Using Python as a Calculator\n",
        "* 2. Variable Assignment\n",
        "* 3. Data Structure\n",
        "    * Numeric\n",
        "    * Strings\n",
        "    * Input/Output (I/O)\n",
        "    * List\n",
        "    * Tuples\n",
        "    * Sets\n",
        "    * Dictionary\n",
        "* 4. if, elif, else Statements\n",
        "* 5. For Loops\n",
        "* 6. While Loops\n",
        "* 7. List comprehensions\n",
        "* 8. Functions\n",
        "* 9. Map function\n",
        "* 10. Data casting\n"
      ]
    },
    {
      "cell_type": "markdown",
      "metadata": {
        "id": "mDd_LTTEAm01"
      },
      "source": [
        "# 0. Install Python\n",
        "\n",
        "### Google Colab:\n",
        "https://colab.research.google.com\n",
        "\n",
        "### Anaconda:\n",
        "https://docs.anaconda.com/anaconda/install\n",
        "\n",
        "### Python:\n",
        "https://www.python.org/downloads"
      ]
    },
    {
      "cell_type": "markdown",
      "metadata": {},
      "source": [
        "# Elementary Python using Jupyter Notebook\n",
        "\n",
        "## Step 1: Installing Python\n",
        "\n",
        "1. Go to the official Python website: https://www.python.org/downloads/\n",
        "2. Download the latest version of Python for your operating system (Windows, macOS, or Linux).\n",
        "3. Run the installer and follow the on-screen instructions to install Python.\n",
        "\n",
        "## Step 2: Installing Jupyter Notebook\n",
        "\n",
        "1. Open a terminal (Command Prompt on Windows, Terminal on macOS, or your preferred terminal on Linux).\n",
        "2. Install Jupyter Notebook using pip by running the following command:\n",
        "   "
      ]
    },
    {
      "cell_type": "code",
      "execution_count": null,
      "metadata": {},
      "outputs": [],
      "source": [
        "# !pip install notebook"
      ]
    },
    {
      "cell_type": "markdown",
      "metadata": {},
      "source": [
        "\n",
        "3. After the installation is complete, launch Jupyter Notebook by running the following command:\n"
      ]
    },
    {
      "cell_type": "code",
      "execution_count": null,
      "metadata": {},
      "outputs": [],
      "source": [
        "# jupyter notebook"
      ]
    },
    {
      "cell_type": "markdown",
      "metadata": {},
      "source": [
        "\n",
        "This will open Jupyter Notebook in your default web browser.\n",
        "\n",
        "## Alternative: Installing Anaconda\n",
        "\n",
        "Anaconda is a distribution of Python and R for scientific computing and data science. It comes with Jupyter Notebook and other useful packages pre-installed.\n",
        "\n",
        "1. Go to the official Anaconda website: https://www.anaconda.com/products/individual\n",
        "2. Download the Anaconda installer for your operating system (Windows, macOS, or Linux).\n",
        "3. Run the installer and follow the on-screen instructions to install Anaconda.\n",
        "\n",
        "### Launching Jupyter Notebook using Anaconda\n",
        "\n",
        "1. Open the Anaconda Navigator application.\n",
        "2. Click on the \"Launch\" button under the Jupyter Notebook icon.\n",
        "\n",
        "Now that you have installed Python and Jupyter Notebook, you can start creating new notebooks and teaching elementary Python concepts."
      ]
    },
    {
      "cell_type": "markdown",
      "metadata": {
        "id": "mMoZB4BKAm02"
      },
      "source": [
        "# 1. Using Python as a Calculator\n",
        "\n"
      ]
    },
    {
      "cell_type": "markdown",
      "metadata": {
        "id": "YA7pG36fAm03"
      },
      "source": [
        "Let’s try some simple Python commands."
      ]
    },
    {
      "cell_type": "code",
      "execution_count": null,
      "metadata": {
        "colab": {
          "base_uri": "https://localhost:8080/"
        },
        "id": "vFTOucALAm07",
        "outputId": "6b66cab6-7a3f-4c0a-9a33-8a6fa6b11fd6"
      },
      "outputs": [
        {
          "name": "stdout",
          "output_type": "stream",
          "text": [
            "5.0\n"
          ]
        }
      ],
      "source": [
        "print((50 - 5*6) / 4)"
      ]
    },
    {
      "cell_type": "code",
      "execution_count": null,
      "metadata": {
        "colab": {
          "base_uri": "https://localhost:8080/"
        },
        "id": "UANRJKcIAm08",
        "outputId": "bb2ef1a9-ce35-4ead-a1a7-bc016c508760"
      },
      "outputs": [
        {
          "name": "stdout",
          "output_type": "stream",
          "text": [
            "2.0\n"
          ]
        }
      ],
      "source": [
        "print(8 / 4)  # division always returns a floating point number"
      ]
    },
    {
      "cell_type": "code",
      "execution_count": 2,
      "metadata": {
        "colab": {
          "base_uri": "https://localhost:8080/"
        },
        "id": "9EcIL2cPg8zr",
        "outputId": "750106b9-45c0-48d1-8051-268845128602"
      },
      "outputs": [
        {
          "name": "stdout",
          "output_type": "stream",
          "text": [
            "2.0\n"
          ]
        }
      ],
      "source": [
        "a = int(2)\n",
        "b = int(4)\n",
        "print(b/a)"
      ]
    },
    {
      "cell_type": "markdown",
      "metadata": {
        "id": "YVB1TmXsAm0-"
      },
      "source": [
        "Division (/) always returns a float. To do floor division and get an integer result (discarding any fractional result) you can use the // operator; to calculate the remainder you can use %"
      ]
    },
    {
      "cell_type": "code",
      "execution_count": null,
      "metadata": {
        "colab": {
          "base_uri": "https://localhost:8080/"
        },
        "id": "IrqnM3BiAm0_",
        "outputId": "a0cb277a-7a3d-46e7-880d-a361efc01c47"
      },
      "outputs": [
        {
          "name": "stdout",
          "output_type": "stream",
          "text": [
            "5.666666666666667\n"
          ]
        }
      ],
      "source": [
        "print(17 / 3)  # classic division returns a float"
      ]
    },
    {
      "cell_type": "code",
      "execution_count": null,
      "metadata": {
        "colab": {
          "base_uri": "https://localhost:8080/"
        },
        "id": "ZzLtfFN-Am1A",
        "outputId": "e2de1149-3081-40dd-c9ed-99a75e8d915e"
      },
      "outputs": [
        {
          "name": "stdout",
          "output_type": "stream",
          "text": [
            "5\n"
          ]
        }
      ],
      "source": [
        "print(17 // 3)  # floor division discards the fractional part"
      ]
    },
    {
      "cell_type": "code",
      "execution_count": null,
      "metadata": {
        "colab": {
          "base_uri": "https://localhost:8080/"
        },
        "id": "jzjc6VF3Am1A",
        "outputId": "448dc01f-8a1c-4abc-dbce-ab949d62fb7c"
      },
      "outputs": [
        {
          "name": "stdout",
          "output_type": "stream",
          "text": [
            "2\n"
          ]
        }
      ],
      "source": [
        "print(17 % 3)  # the % operator returns the remainder of the division"
      ]
    },
    {
      "cell_type": "markdown",
      "metadata": {
        "id": "nL9wtRSJAm1B"
      },
      "source": [
        "With Python, it is possible to use the ** operator to calculate powers"
      ]
    },
    {
      "cell_type": "code",
      "execution_count": null,
      "metadata": {
        "colab": {
          "base_uri": "https://localhost:8080/"
        },
        "id": "iqA2b9pQAm1C",
        "outputId": "b1d1c154-8af4-4f50-adc1-c55f597de9b4"
      },
      "outputs": [
        {
          "name": "stdout",
          "output_type": "stream",
          "text": [
            "128\n"
          ]
        }
      ],
      "source": [
        "print(2 ** 7)  # 2 to the power of 7"
      ]
    },
    {
      "cell_type": "markdown",
      "metadata": {
        "id": "NWBcTqP3Am1D"
      },
      "source": [
        "#### Comment:"
      ]
    },
    {
      "cell_type": "code",
      "execution_count": 3,
      "metadata": {
        "colab": {
          "base_uri": "https://localhost:8080/",
          "height": 35
        },
        "id": "Oc_cqSSJAm1E",
        "outputId": "365fca19-87ef-4b9a-b84a-5bb1e6db095e"
      },
      "outputs": [
        {
          "data": {
            "application/vnd.google.colaboratory.intrinsic+json": {
              "type": "string"
            },
            "text/plain": [
              "'\\nThis is a comment\\nwritten in\\nmore than just one line\\n'"
            ]
          },
          "execution_count": 3,
          "metadata": {},
          "output_type": "execute_result"
        }
      ],
      "source": [
        "# this is a single-line comment\n",
        "# ctrl + '/' comments and uncomments a line of code in most IDEs\n",
        "\n",
        "\"\"\"\n",
        "This is a comment\n",
        "written in\n",
        "more than just one line\n",
        "\"\"\""
      ]
    },
    {
      "cell_type": "markdown",
      "metadata": {
        "id": "n8zfPbv3Am1E"
      },
      "source": [
        "# 2. Variable Assignment\n",
        "\n",
        "## 2.1 Rules for variable names\n",
        "* names can not start with a number\n",
        "* names can not contain spaces, use _ intead\n",
        "* names can not contain any of these symbols:\n",
        "\n",
        "      :'\",<>/?|\\!@#%^&*~-+\n",
        "       \n",
        "* avoid using Python built-in keywords like `list` and `str`\n",
        "* avoid using the single characters `l` (lowercase letter el), `O` (uppercase letter oh) and `I` (uppercase letter eye) as they can be confused with `1` and `0`"
      ]
    },
    {
      "cell_type": "code",
      "execution_count": null,
      "metadata": {
        "colab": {
          "base_uri": "https://localhost:8080/",
          "height": 131
        },
        "id": "94PGtE9jAm1F",
        "outputId": "4081d71a-5aa3-448b-f01e-4dca9a82c3d5",
        "scrolled": false
      },
      "outputs": [
        {
          "ename": "SyntaxError",
          "evalue": "ignored",
          "output_type": "error",
          "traceback": [
            "\u001b[0;36m  File \u001b[0;32m\"<ipython-input-10-10aaf1405af9>\"\u001b[0;36m, line \u001b[0;32m1\u001b[0m\n\u001b[0;31m    asdf:! = 2\u001b[0m\n\u001b[0m         ^\u001b[0m\n\u001b[0;31mSyntaxError\u001b[0m\u001b[0;31m:\u001b[0m invalid syntax\n"
          ]
        }
      ],
      "source": [
        "asdf:! = 2"
      ]
    },
    {
      "cell_type": "code",
      "execution_count": null,
      "metadata": {
        "id": "Fpcf5lfKAm1G"
      },
      "outputs": [],
      "source": [
        "a = 4.50"
      ]
    },
    {
      "cell_type": "code",
      "execution_count": null,
      "metadata": {
        "id": "sqFzJmBRAm1H"
      },
      "outputs": [],
      "source": [
        "b = \"Python\""
      ]
    },
    {
      "cell_type": "code",
      "execution_count": null,
      "metadata": {
        "id": "D1tnWkjgAm1I"
      },
      "outputs": [],
      "source": [
        "c = 1+2j     # complex"
      ]
    },
    {
      "cell_type": "markdown",
      "metadata": {
        "id": "6kYIOzfJAm1I"
      },
      "source": [
        "## 2.2 Determining variable type with `type()`\n",
        "You can check what type of object is assigned to a variable using Python's built-in `type()` function. Common data types include:\n",
        "* **int** (for integer)\n",
        "* **float**\n",
        "* **complex**\n",
        "* **str** (for string)\n",
        "* **list**\n",
        "* **tuple**\n",
        "* **dict** (for dictionary)\n",
        "* **set**\n",
        "* **bool** (for Boolean True/False)\n",
        "\n"
      ]
    },
    {
      "cell_type": "code",
      "execution_count": null,
      "metadata": {
        "colab": {
          "base_uri": "https://localhost:8080/"
        },
        "id": "i6SW1xP-Am1J",
        "outputId": "89f973ae-d83d-427a-cfd1-013f60dac968"
      },
      "outputs": [
        {
          "name": "stdout",
          "output_type": "stream",
          "text": [
            "<class 'float'>\n"
          ]
        }
      ],
      "source": [
        "print(type(a))"
      ]
    },
    {
      "cell_type": "code",
      "execution_count": null,
      "metadata": {
        "colab": {
          "base_uri": "https://localhost:8080/"
        },
        "id": "KjcwDb6AwHhR",
        "outputId": "45f978de-9573-4d69-933f-921b20ea1607"
      },
      "outputs": [
        {
          "name": "stdout",
          "output_type": "stream",
          "text": [
            "<class 'int'>\n"
          ]
        }
      ],
      "source": [
        "a=2\n",
        "print(type(a))"
      ]
    },
    {
      "cell_type": "code",
      "execution_count": 8,
      "metadata": {
        "colab": {
          "base_uri": "https://localhost:8080/"
        },
        "id": "i1sArwlXAm1J",
        "outputId": "e67c562e-9181-4144-9d25-79ee0842bb5c"
      },
      "outputs": [
        {
          "name": "stdout",
          "output_type": "stream",
          "text": [
            "<class 'int'>\n"
          ]
        }
      ],
      "source": [
        "print(type(b))"
      ]
    },
    {
      "cell_type": "code",
      "execution_count": 7,
      "metadata": {
        "colab": {
          "base_uri": "https://localhost:8080/"
        },
        "id": "ujL_xiL0Am1K",
        "outputId": "af2a218a-44f0-4559-9940-a3ec6f7592e4"
      },
      "outputs": [
        {
          "name": "stdout",
          "output_type": "stream",
          "text": [
            "<class 'str'>\n"
          ]
        }
      ],
      "source": [
        "print(type(c))"
      ]
    },
    {
      "cell_type": "code",
      "execution_count": 5,
      "metadata": {
        "colab": {
          "base_uri": "https://localhost:8080/"
        },
        "id": "COcq4WZOAm1K",
        "outputId": "1514ff46-fad0-4467-dfbe-c13505e9cc8f"
      },
      "outputs": [
        {
          "name": "stdout",
          "output_type": "stream",
          "text": [
            "<class 'bool'>\n"
          ]
        }
      ],
      "source": [
        "x=True\n",
        "y=False\n",
        "\n",
        "print(type(x))"
      ]
    },
    {
      "cell_type": "code",
      "execution_count": 6,
      "metadata": {
        "colab": {
          "base_uri": "https://localhost:8080/"
        },
        "id": "Z1hCBX-IAm1K",
        "outputId": "38a75699-274a-4ca6-f2db-7fe1275ed11d"
      },
      "outputs": [
        {
          "name": "stdout",
          "output_type": "stream",
          "text": [
            "11\n"
          ]
        }
      ],
      "source": [
        "a = 10\n",
        "a += 1 # a = a+1\n",
        "print(a)"
      ]
    },
    {
      "cell_type": "code",
      "execution_count": 9,
      "metadata": {
        "colab": {
          "base_uri": "https://localhost:8080/"
        },
        "id": "pr0MRiVdAm1L",
        "outputId": "f1beba05-8fbb-41d2-a17a-233e38f40620"
      },
      "outputs": [
        {
          "name": "stdout",
          "output_type": "stream",
          "text": [
            "5\n",
            "3.2\n",
            "Hello\n",
            "same\n",
            "same\n",
            "same\n"
          ]
        }
      ],
      "source": [
        "a, b, c = 5, 3.2, \"Hello\"\n",
        "print (a)\n",
        "print (b)\n",
        "print (c)\n",
        "x = y = z = \"same\"\n",
        "print (x)\n",
        "print (y)\n",
        "print (z)"
      ]
    },
    {
      "cell_type": "markdown",
      "metadata": {
        "id": "Fj2CrbGYAm1L"
      },
      "source": [
        "# 3. Data Structure\n",
        "* **Numeric**\n",
        "* **Strings**\n",
        "* **List**\n",
        "* **Tuples**\n",
        "* **Sets**\n",
        "* **Dictionary**"
      ]
    },
    {
      "cell_type": "markdown",
      "metadata": {
        "id": "NtFzLYdnAm1L"
      },
      "source": [
        "## 3.1 Strings"
      ]
    },
    {
      "cell_type": "markdown",
      "metadata": {
        "id": "L5CNTyMEAm1L"
      },
      "source": [
        "Strings are used in Python to record text information, such as names. Strings in Python are actually a *sequence*, which basically means Python keeps track of every element in the string as a sequence. For example, Python understands the string \"hello' to be a sequence of letters in a specific order. This means we will be able to use indexing to grab particular letters (like the first letter, or the last letter)."
      ]
    },
    {
      "cell_type": "markdown",
      "metadata": {
        "id": "yb0fyAxzAm1M"
      },
      "source": [
        "###  3.1.1 Creating a String\n",
        "To create a string in Python you need to use either single quotes or double quotes. For example:"
      ]
    },
    {
      "cell_type": "code",
      "execution_count": 11,
      "metadata": {
        "colab": {
          "base_uri": "https://localhost:8080/"
        },
        "id": "q7uRWmwqAm1M",
        "outputId": "81c21146-c103-4512-99b3-b1827b7aaca2"
      },
      "outputs": [
        {
          "name": "stdout",
          "output_type": "stream",
          "text": [
            "This is also a string\n"
          ]
        }
      ],
      "source": [
        "c = \"This is also a string\"\n",
        "print(c)"
      ]
    },
    {
      "cell_type": "code",
      "execution_count": 12,
      "metadata": {
        "colab": {
          "base_uri": "https://localhost:8080/"
        },
        "id": "LpnWVnVmAm1M",
        "outputId": "eb0474f7-15a3-46c2-e8b5-acd5bae57e76"
      },
      "outputs": [
        {
          "name": "stdout",
          "output_type": "stream",
          "text": [
            "This is also a string\n",
            "21\n",
            "a\n",
            "his is also a string\n",
            "This \n",
            "This is also a string this is me\n",
            "Ti sas  tig\n"
          ]
        }
      ],
      "source": [
        "print(c)\n",
        "print(len(c))\n",
        "print(c[8])\n",
        "print(c[1:])\n",
        "print(c[:5])\n",
        "print(c + \" this is me\")\n",
        "# Grab everything, but go in steps size of 2\n",
        "print(c[::2])"
      ]
    },
    {
      "cell_type": "code",
      "execution_count": 13,
      "metadata": {
        "colab": {
          "base_uri": "https://localhost:8080/"
        },
        "id": "go8_tSjtAm1P",
        "outputId": "100b8596-2289-411c-dc14-3ff6c9896a34"
      },
      "outputs": [
        {
          "name": "stdout",
          "output_type": "stream",
          "text": [
            "H\n",
            "d\n"
          ]
        }
      ],
      "source": [
        "string = \"Hello World\"\n",
        "print( string[0] )\n",
        "print( string[-1] )"
      ]
    },
    {
      "cell_type": "code",
      "execution_count": 14,
      "metadata": {
        "colab": {
          "base_uri": "https://localhost:8080/"
        },
        "id": "1gdidYHNAm1Q",
        "outputId": "402873d9-d97e-41af-e393-bafdb6ec3d88"
      },
      "outputs": [
        {
          "name": "stdout",
          "output_type": "stream",
          "text": [
            "this\n",
            "is \n",
            "a\n",
            "string\n",
            "written\n",
            "in\n",
            "several\n",
            "lines\n"
          ]
        }
      ],
      "source": [
        "c2 = \"\"\"this\n",
        "is\n",
        "a\n",
        "string\n",
        "written\n",
        "in\n",
        "several\n",
        "lines\"\"\"\n",
        "\n",
        "print(c2)"
      ]
    },
    {
      "cell_type": "code",
      "execution_count": 15,
      "metadata": {
        "colab": {
          "base_uri": "https://localhost:8080/"
        },
        "id": "HZYbPwT-Am1Q",
        "outputId": "deb0198a-9bd3-457e-dc8c-d3d399c409e7"
      },
      "outputs": [
        {
          "name": "stdout",
          "output_type": "stream",
          "text": [
            "this is a string containing 'quotation' marks\n"
          ]
        }
      ],
      "source": [
        "s1 = \"this is a string containing 'quotation' marks\"\n",
        "print(s1)"
      ]
    },
    {
      "cell_type": "code",
      "execution_count": 16,
      "metadata": {
        "colab": {
          "base_uri": "https://localhost:8080/"
        },
        "id": "fHWPJcNrAm1Q",
        "outputId": "4540450d-832b-4af7-89a8-a5700bfa1415"
      },
      "outputs": [
        {
          "name": "stdout",
          "output_type": "stream",
          "text": [
            " this is a string containing \"double quotation marks\" \n"
          ]
        }
      ],
      "source": [
        "s2 = ' this is a string containing \"double quotation marks\" '\n",
        "print(s2)"
      ]
    },
    {
      "cell_type": "markdown",
      "metadata": {
        "id": "4-8HNebJAm1R"
      },
      "source": [
        "### 3.1.2 string concatenation"
      ]
    },
    {
      "cell_type": "code",
      "execution_count": 17,
      "metadata": {
        "colab": {
          "base_uri": "https://localhost:8080/"
        },
        "id": "scBpJH62Am1R",
        "outputId": "834aa96f-01af-4884-cc0a-6887b8c5fd02",
        "scrolled": true
      },
      "outputs": [
        {
          "name": "stdout",
          "output_type": "stream",
          "text": [
            "this is a string this is another string\n"
          ]
        }
      ],
      "source": [
        "s1=\"this is a string\"\n",
        "s2='this is another string'\n",
        "\n",
        "\n",
        "print(s1 + ' ' + s2)"
      ]
    },
    {
      "cell_type": "markdown",
      "metadata": {
        "id": "VuaRnbOmAm1R"
      },
      "source": [
        "### 3.1.3 Repeating strings"
      ]
    },
    {
      "cell_type": "code",
      "execution_count": 18,
      "metadata": {
        "colab": {
          "base_uri": "https://localhost:8080/"
        },
        "id": "Mfa5TibjAm1R",
        "outputId": "5129a057-3a9a-4f35-fdbe-25d179971d3f"
      },
      "outputs": [
        {
          "name": "stdout",
          "output_type": "stream",
          "text": [
            "sample string sample string sample string \n"
          ]
        }
      ],
      "source": [
        "s3 = \"sample string \"\n",
        "\n",
        "print(3 * s3)"
      ]
    },
    {
      "cell_type": "markdown",
      "metadata": {
        "id": "DtLclFPqAm1S"
      },
      "source": [
        "### Input/Output (I/O)\n",
        "\n",
        "### Print Formatting\n",
        "\n",
        "We can use the .format() method to add formatted objects to printed string statements.\n",
        "\n",
        "The easiest way to show this is through an example:"
      ]
    },
    {
      "cell_type": "code",
      "execution_count": 19,
      "metadata": {
        "colab": {
          "base_uri": "https://localhost:8080/"
        },
        "id": "-K2LFfEMAm1S",
        "outputId": "075e80f0-b2bc-4237-d7a9-61a1f6d956f5"
      },
      "outputs": [
        {
          "name": "stdout",
          "output_type": "stream",
          "text": [
            "name: John , ID: 98200140\n",
            "name: John , ID: 98200140\n"
          ]
        }
      ],
      "source": [
        "name = \"John\"\n",
        "ID = 98200140\n",
        "print(\"name: {} , ID: {}\".format(name,ID))\n",
        "print(f\"name: {name} , ID: {ID}\")"
      ]
    },
    {
      "cell_type": "markdown",
      "metadata": {
        "id": "thlsi7MBAm1T"
      },
      "source": [
        "* Floating point number:"
      ]
    },
    {
      "cell_type": "code",
      "execution_count": 20,
      "metadata": {
        "colab": {
          "base_uri": "https://localhost:8080/"
        },
        "id": "BqhXHVoUAm1T",
        "outputId": "252aa6f2-cffa-4063-d686-2853bb54f729"
      },
      "outputs": [
        {
          "name": "stdout",
          "output_type": "stream",
          "text": [
            "1.656\n",
            "the type of b is:  <class 'float'>\n",
            "b is equal to 1.66\n",
            "b is rounded to 1.7\n"
          ]
        }
      ],
      "source": [
        "b=1.656\n",
        "print(b)\n",
        "print(\"the type of b is: \", type(b))\n",
        "#The %f formatter is specifically used for formatting float values\n",
        "print(\"b is equal to %.2f\"%b)\n",
        "print(\"b is rounded to %.1f\"%b)"
      ]
    },
    {
      "cell_type": "markdown",
      "metadata": {
        "id": "zkC_5Km5Am1U"
      },
      "source": [
        "* Scientific notation:"
      ]
    },
    {
      "cell_type": "code",
      "execution_count": null,
      "metadata": {
        "colab": {
          "base_uri": "https://localhost:8080/"
        },
        "id": "H5WxNZv7Am1U",
        "outputId": "ad5632ec-66f1-4287-fd1f-bb06f2bc1b67"
      },
      "outputs": [
        {
          "name": "stdout",
          "output_type": "stream",
          "text": [
            "-158950000.0\n",
            "<class 'float'>\n",
            "d is equal to -158950000.0\n",
            "d is equal to -1.589500e+08\n"
          ]
        }
      ],
      "source": [
        "d=-1589.5e5\n",
        "print(d)\n",
        "print(type(d))\n",
        "print(\"d is equal to {}\".format(d))\n",
        "print(\"d is equal to %e\"%d)"
      ]
    },
    {
      "cell_type": "markdown",
      "metadata": {
        "id": "Pr_QbTnbAm1U"
      },
      "source": [
        "### Input"
      ]
    },
    {
      "cell_type": "code",
      "execution_count": null,
      "metadata": {
        "colab": {
          "base_uri": "https://localhost:8080/"
        },
        "id": "_TOKuSYoAm1U",
        "outputId": "aaa6cd2f-252e-42fc-920e-6198b69ead03"
      },
      "outputs": [
        {
          "name": "stdout",
          "output_type": "stream",
          "text": [
            "Enter a number: 15\n",
            "Your entered: 15\n",
            "<class 'str'>\n"
          ]
        }
      ],
      "source": [
        "num = input('Enter a number: ')\n",
        "print(\"Your entered:\", num)\n",
        "print(type(num))"
      ]
    },
    {
      "cell_type": "markdown",
      "metadata": {
        "id": "D5zR2GfoAm1U"
      },
      "source": [
        "# 3.2 List"
      ]
    },
    {
      "cell_type": "markdown",
      "metadata": {
        "id": "RpqBJCD7Am1V"
      },
      "source": [
        "Lists can be thought of the most general version of a sequence in Python. Unlike strings, they are mutable, meaning the elements inside a list can be changed!"
      ]
    },
    {
      "cell_type": "code",
      "execution_count": 21,
      "metadata": {
        "id": "_QuYo9RrAm1V"
      },
      "outputs": [],
      "source": [
        "# Assign a list to an variable named my_list\n",
        "\n",
        "my_list = ['one','two','three', 4, 5, [41,20,56]]"
      ]
    },
    {
      "cell_type": "code",
      "execution_count": 22,
      "metadata": {
        "colab": {
          "base_uri": "https://localhost:8080/"
        },
        "id": "3wvb4J2FAm1V",
        "outputId": "c4deb08b-015f-42e7-c54d-585729ee7e02"
      },
      "outputs": [
        {
          "name": "stdout",
          "output_type": "stream",
          "text": [
            "6\n"
          ]
        }
      ],
      "source": [
        "print(len(my_list))"
      ]
    },
    {
      "cell_type": "code",
      "execution_count": 23,
      "metadata": {
        "colab": {
          "base_uri": "https://localhost:8080/"
        },
        "id": "nW6fwyRzkQrJ",
        "outputId": "a6ea248c-0b6c-464e-ba1e-4accd7ea36af"
      },
      "outputs": [
        {
          "name": "stdout",
          "output_type": "stream",
          "text": [
            "three\n"
          ]
        }
      ],
      "source": [
        "# Grab element at index 2\n",
        "print(my_list[2])"
      ]
    },
    {
      "cell_type": "code",
      "execution_count": 24,
      "metadata": {
        "colab": {
          "base_uri": "https://localhost:8080/"
        },
        "id": "bmQQI-kVAm1V",
        "outputId": "102058aa-4223-4268-a4a3-9a00da465eba"
      },
      "outputs": [
        {
          "name": "stdout",
          "output_type": "stream",
          "text": [
            "20\n"
          ]
        }
      ],
      "source": [
        "# Grab 1st element of index 5 which is also a list\n",
        "print(my_list[5][1])"
      ]
    },
    {
      "cell_type": "code",
      "execution_count": 25,
      "metadata": {
        "colab": {
          "base_uri": "https://localhost:8080/"
        },
        "id": "TbXQTQIGAm1V",
        "outputId": "341828a2-8145-4587-f9e0-0a0dc4279890"
      },
      "outputs": [
        {
          "name": "stdout",
          "output_type": "stream",
          "text": [
            "['one', 'two', 'three', 4, 5, [41, 20, 56], 'add new item permanently']\n"
          ]
        }
      ],
      "source": [
        "# Reassign\n",
        "my_list = my_list + ['add new item permanently']\n",
        "print(my_list)"
      ]
    },
    {
      "cell_type": "code",
      "execution_count": 26,
      "metadata": {
        "colab": {
          "base_uri": "https://localhost:8080/"
        },
        "id": "-WW04OYUAm1W",
        "outputId": "0b24a770-29ad-47a2-ff63-7b0ad9ddc1d8"
      },
      "outputs": [
        {
          "name": "stdout",
          "output_type": "stream",
          "text": [
            "[1, 2, 3, 4, 5]\n",
            "[1000, 2, 3, 4, 5]\n"
          ]
        }
      ],
      "source": [
        "list1 = [1,2,3,4,5]\n",
        "print(list1)\n",
        "\n",
        "list1[0] = 1000\n",
        "print(list1)"
      ]
    },
    {
      "cell_type": "code",
      "execution_count": 27,
      "metadata": {
        "colab": {
          "base_uri": "https://localhost:8080/"
        },
        "id": "nERwkBx1Am1W",
        "outputId": "db5d47c2-e004-46c7-ea20-9b94d02aa6fe"
      },
      "outputs": [
        {
          "name": "stdout",
          "output_type": "stream",
          "text": [
            "[4, 5, 6]\n",
            "5\n"
          ]
        }
      ],
      "source": [
        "list2d = [ [1,2,3] , [4,5,6] , [7,8,9] ]\n",
        "\n",
        "# print(list2d)\n",
        "print(list2d[1])\n",
        "print(list2d[1][1])"
      ]
    },
    {
      "cell_type": "markdown",
      "metadata": {
        "id": "NJsVnqrcAm1W"
      },
      "source": [
        "## 3.2.1 Basic List Methods\n",
        "\n",
        "If you are familiar with another programming language, you might start to draw parallels between arrays in another language and lists in Python. Lists in Python however, tend to be more flexible than arrays in other languages for a two good reasons: they have no fixed size (meaning we don't have to specify how big a list will be), and they have no fixed type constraint (like we've seen above).\n",
        "\n",
        "Let's go ahead and explore some more special methods for lists:"
      ]
    },
    {
      "cell_type": "code",
      "execution_count": 28,
      "metadata": {
        "colab": {
          "base_uri": "https://localhost:8080/"
        },
        "id": "IP5HMRDIAm1X",
        "outputId": "982f940b-cd30-40cf-9efb-dc33f997bc3d"
      },
      "outputs": [
        {
          "name": "stdout",
          "output_type": "stream",
          "text": [
            "['one', 'two', 'three', 4, 5, [41, 20, 56], 'add new item permanently', 42]\n"
          ]
        }
      ],
      "source": [
        "my_list.append(42) # equal to my_list + [42]\n",
        "print(my_list)"
      ]
    },
    {
      "cell_type": "code",
      "execution_count": 29,
      "metadata": {
        "colab": {
          "base_uri": "https://localhost:8080/"
        },
        "id": "xHPHticSAm1X",
        "outputId": "938880c2-2ea3-4ce8-e24f-fba2535ba2c6"
      },
      "outputs": [
        {
          "name": "stdout",
          "output_type": "stream",
          "text": [
            "['one', 'two', 'three', 5, [41, 20, 56], 'add new item permanently', 42]\n"
          ]
        }
      ],
      "source": [
        "#remove item at index 3\n",
        "my_list.pop(3)\n",
        "print(my_list)"
      ]
    },
    {
      "cell_type": "code",
      "execution_count": null,
      "metadata": {
        "colab": {
          "base_uri": "https://localhost:8080/"
        },
        "id": "ERTWJ37SAm1X",
        "outputId": "4a76ea52-1d0d-492a-e63f-d7745f9d1c95"
      },
      "outputs": [
        {
          "name": "stdout",
          "output_type": "stream",
          "text": [
            "['one', 'two', 5, [41, 20, 56], 'add new item permanently', 42]\n"
          ]
        }
      ],
      "source": [
        "my_list.remove('three')\n",
        "print(my_list)"
      ]
    },
    {
      "cell_type": "code",
      "execution_count": null,
      "metadata": {
        "colab": {
          "base_uri": "https://localhost:8080/"
        },
        "id": "JioLCU4DAm1Y",
        "outputId": "fb9a32fc-7fcb-4662-9a6b-db9c2fc2ac14"
      },
      "outputs": [
        {
          "name": "stdout",
          "output_type": "stream",
          "text": [
            "[[1, 2, 3], [4, 5, 6], [7, 8, 9]]\n",
            "6\n"
          ]
        }
      ],
      "source": [
        "# Let's make three lists\n",
        "lst_1=[1,2,3]\n",
        "lst_2=[4,5,6]\n",
        "lst_3=[7,8,9]\n",
        "\n",
        "# Make a list of lists to form a matrix\n",
        "matrix = [lst_1,lst_2,lst_3]\n",
        "print(matrix)\n",
        "print(matrix[1][2])"
      ]
    },
    {
      "cell_type": "markdown",
      "metadata": {
        "id": "91cvTlj_Am1Z"
      },
      "source": [
        "## 3.2.2 let's see some examples"
      ]
    },
    {
      "cell_type": "code",
      "execution_count": 30,
      "metadata": {
        "colab": {
          "base_uri": "https://localhost:8080/"
        },
        "id": "YcNbvwHwAm1Z",
        "outputId": "0d50e454-af7d-41a9-bce3-3a4726d9726f"
      },
      "outputs": [
        {
          "name": "stdout",
          "output_type": "stream",
          "text": [
            "Mercury\n",
            "Venus\n",
            "Neptune\n",
            "Uranus\n",
            "['Mercury', 'Venus', 'Earth']\n",
            "['Mercury', 'Venus', 'Earth']\n",
            "['Mars', 'Jupiter', 'Saturn', 'Uranus', 'Neptune']\n",
            "['Venus', 'Earth', 'Mars', 'Jupiter', 'Saturn', 'Uranus']\n",
            "['Saturn', 'Uranus', 'Neptune']\n"
          ]
        }
      ],
      "source": [
        "planets = ['Mercury', 'Venus', 'Earth', 'Mars',\n",
        "           'Jupiter', 'Saturn', 'Uranus', 'Neptune']\n",
        "\n",
        "# Indexing:\n",
        "print(planets[0])\n",
        "print(planets[1])\n",
        "print(planets[-1])\n",
        "print(planets[-2])\n",
        "\n",
        "# Slicing:\n",
        "print(planets[0:3])\n",
        "print(planets[:3])\n",
        "print(planets[3:])\n",
        "\n",
        "# All the planets except the first and last\n",
        "print(planets[1:-1])\n",
        "# The last 3 planets\n",
        "print(planets[-3:])"
      ]
    },
    {
      "cell_type": "code",
      "execution_count": 31,
      "metadata": {
        "colab": {
          "base_uri": "https://localhost:8080/"
        },
        "id": "6FFVi1RFAm1Z",
        "outputId": "228b097a-14bb-48e0-b826-b48da201a7bd"
      },
      "outputs": [
        {
          "name": "stdout",
          "output_type": "stream",
          "text": [
            "['Mercury', 'Venus', 'Earth', 'Mars', 'Jupiter', 'Saturn', 'Uranus', 'Neptune']\n"
          ]
        }
      ],
      "source": [
        "# Changing list\n",
        "planets[3] = 'Mars'\n",
        "print(planets)"
      ]
    },
    {
      "cell_type": "code",
      "execution_count": null,
      "metadata": {
        "colab": {
          "base_uri": "https://localhost:8080/"
        },
        "id": "bpGVGmPYAm1Z",
        "outputId": "bbcbba8c-f36a-4783-ea9d-7410e2d48420"
      },
      "outputs": [
        {
          "name": "stdout",
          "output_type": "stream",
          "text": [
            "8\n",
            "['Earth', 'Jupiter', 'Mars', 'Mercury', 'Neptune', 'Saturn', 'Uranus', 'Venus']\n",
            "2\n",
            "True\n"
          ]
        }
      ],
      "source": [
        "# How many planets are there?\n",
        "print(len(planets))\n",
        "# The planets sorted in alphabetical order\n",
        "print(sorted(planets))\n",
        "\n",
        "# Another useful method:\n",
        "print( planets.index('Earth') )\n",
        "\n",
        "# Is Mars a planet?\n",
        "print(\"Mars\" in planets)"
      ]
    },
    {
      "cell_type": "markdown",
      "metadata": {
        "id": "0TsEwSwzAm1a"
      },
      "source": [
        "# 3.3 Tuples\n",
        "\n",
        "In Python tuples are very similar to lists, however, unlike lists they are *immutable* meaning they can not be changed. You would use tuples to present things that shouldn't be changed, such as days of the week, or dates on a calendar.\n",
        "\n",
        "## 3.3.1 Constructing Tuples\n",
        "\n",
        "The construction of a tuples use () with elements separated by commas. For example:"
      ]
    },
    {
      "cell_type": "code",
      "execution_count": 32,
      "metadata": {
        "id": "Vn6mp4YAAm1a"
      },
      "outputs": [],
      "source": [
        "# Create a tuple\n",
        "t = (1,2,2,3,'ali')"
      ]
    },
    {
      "cell_type": "code",
      "execution_count": 33,
      "metadata": {
        "colab": {
          "base_uri": "https://localhost:8080/",
          "height": 176
        },
        "id": "RyGA2ZvpAm1a",
        "outputId": "2a8b25a3-dd4b-4db6-88b8-75d8dbb5a65c"
      },
      "outputs": [
        {
          "ename": "TypeError",
          "evalue": "ignored",
          "output_type": "error",
          "traceback": [
            "\u001b[0;31m---------------------------------------------------------------------------\u001b[0m",
            "\u001b[0;31mTypeError\u001b[0m                                 Traceback (most recent call last)",
            "\u001b[0;32m<ipython-input-33-359b2a45c38e>\u001b[0m in \u001b[0;36m<cell line: 1>\u001b[0;34m()\u001b[0m\n\u001b[0;32m----> 1\u001b[0;31m \u001b[0mt\u001b[0m\u001b[0;34m[\u001b[0m\u001b[0;36m1\u001b[0m\u001b[0;34m]\u001b[0m \u001b[0;34m=\u001b[0m \u001b[0;36m8\u001b[0m\u001b[0;34m\u001b[0m\u001b[0;34m\u001b[0m\u001b[0m\n\u001b[0m",
            "\u001b[0;31mTypeError\u001b[0m: 'tuple' object does not support item assignment"
          ]
        }
      ],
      "source": [
        "t[1] = 8"
      ]
    },
    {
      "cell_type": "code",
      "execution_count": 34,
      "metadata": {
        "colab": {
          "base_uri": "https://localhost:8080/"
        },
        "id": "G7qip-qAAm1b",
        "outputId": "15522bed-54a2-405a-a132-8c9fed8af8e8"
      },
      "outputs": [
        {
          "data": {
            "text/plain": [
              "2"
            ]
          },
          "execution_count": 34,
          "metadata": {},
          "output_type": "execute_result"
        }
      ],
      "source": [
        "t.count(2)"
      ]
    },
    {
      "cell_type": "code",
      "execution_count": 35,
      "metadata": {
        "colab": {
          "base_uri": "https://localhost:8080/"
        },
        "id": "FG6m4agzAm1b",
        "outputId": "4182e1b6-5e83-427b-ab09-3996cf54c731"
      },
      "outputs": [
        {
          "data": {
            "text/plain": [
              "4"
            ]
          },
          "execution_count": 35,
          "metadata": {},
          "output_type": "execute_result"
        }
      ],
      "source": [
        "t.index('ali')"
      ]
    },
    {
      "cell_type": "markdown",
      "metadata": {
        "id": "AdZjQMA-Am1b"
      },
      "source": [
        "## 3.3.2 tuple extraction"
      ]
    },
    {
      "cell_type": "code",
      "execution_count": 36,
      "metadata": {
        "colab": {
          "base_uri": "https://localhost:8080/"
        },
        "id": "yVjGfC7-Am1b",
        "outputId": "b9a8f583-a848-4e11-cc4d-a9b98e5a4d21"
      },
      "outputs": [
        {
          "name": "stdout",
          "output_type": "stream",
          "text": [
            "1\n",
            "2\n",
            "3\n"
          ]
        }
      ],
      "source": [
        "tuple3 = (1,2,3,4)\n",
        "a,b,c,_ = tuple3\n",
        "\n",
        "print(a)\n",
        "print(b)\n",
        "print(c)"
      ]
    },
    {
      "cell_type": "markdown",
      "metadata": {
        "id": "fGuj4l5AAm1c"
      },
      "source": [
        "## 3.4 Sets\n",
        "\n",
        "Sets are an unordered collection of *unique* elements. We can construct them by using the set() function. Let's go ahead and make a set to see how it works"
      ]
    },
    {
      "cell_type": "code",
      "execution_count": null,
      "metadata": {
        "colab": {
          "base_uri": "https://localhost:8080/"
        },
        "id": "Z9V841pAAm1c",
        "outputId": "ee3373ca-fe4d-42fb-a5f5-8f479c247e99"
      },
      "outputs": [
        {
          "name": "stdout",
          "output_type": "stream",
          "text": [
            "{1}\n"
          ]
        }
      ],
      "source": [
        "x = set()\n",
        "x.add(1)\n",
        "print(x)"
      ]
    },
    {
      "cell_type": "code",
      "execution_count": null,
      "metadata": {
        "colab": {
          "base_uri": "https://localhost:8080/"
        },
        "id": "Jhv4QiqZAm1c",
        "outputId": "bd88d74d-4a11-477a-edd4-6dc4c51ae15b"
      },
      "outputs": [
        {
          "name": "stdout",
          "output_type": "stream",
          "text": [
            "{1, 2}\n"
          ]
        }
      ],
      "source": [
        "x.add(2)\n",
        "x.add(1)\n",
        "print(x)"
      ]
    },
    {
      "cell_type": "markdown",
      "metadata": {
        "id": "t4s3cBRJAm1d"
      },
      "source": [
        "Notice how it won't place another 1 there. That's because a set is only concerned with unique elements! We can cast a list with multiple repeat elements to a set to get the unique elements. For example:"
      ]
    },
    {
      "cell_type": "code",
      "execution_count": null,
      "metadata": {
        "colab": {
          "base_uri": "https://localhost:8080/"
        },
        "id": "Oeqjm615Am1d",
        "outputId": "563cb675-3ce7-4668-ad17-f382ae10e0e5"
      },
      "outputs": [
        {
          "data": {
            "text/plain": [
              "{1, 2, 3, 4, 5, 6}"
            ]
          },
          "execution_count": 52,
          "metadata": {},
          "output_type": "execute_result"
        }
      ],
      "source": [
        "# Create a list with repeats\n",
        "list1 = [1,1,2,2,3,4,5,6,1,1]\n",
        "set(list1)"
      ]
    },
    {
      "cell_type": "markdown",
      "metadata": {
        "id": "wEfLhLVvAm1f"
      },
      "source": [
        "# 3.5 Dictionaries\n",
        "\n",
        "We've been learning about *sequences* in Python but now we're going to switch gears and learn about *mappings* in Python. If you're familiar with other languages you can think of these Dictionaries as hash tables.\n",
        "So what are mappings? Mappings are a collection of objects that are stored by a *key*, unlike a sequence that stored objects by their relative position. This is an important distinction, since mappings won't retain order since they have objects defined by a key.\n",
        "\n",
        "A Python dictionary consists of a key and then an associated value. That value can be almost any Python object.\n",
        "\n",
        "\n",
        "## 3.5.1 Constructing a Dictionary\n",
        "Let's see how we can construct dictionaries to get a better understanding of how they work!"
      ]
    },
    {
      "cell_type": "code",
      "execution_count": 38,
      "metadata": {
        "colab": {
          "base_uri": "https://localhost:8080/"
        },
        "id": "3epBr63JAm1f",
        "outputId": "0817a0ed-e6f3-46b1-ea60-346c66f9b3a3"
      },
      "outputs": [
        {
          "name": "stdout",
          "output_type": "stream",
          "text": [
            "['item0', 'item1', 'item2']\n",
            "item0\n"
          ]
        }
      ],
      "source": [
        "my_dict = {'key1':123,'key2':[12,23,33],'key3':['item0','item1','item2']}\n",
        "# Let's call items from the dictionary\n",
        "print(my_dict['key3'])\n",
        "print(my_dict['key3'][0])"
      ]
    },
    {
      "cell_type": "code",
      "execution_count": 39,
      "metadata": {
        "colab": {
          "base_uri": "https://localhost:8080/"
        },
        "id": "RnXIVDREAm1g",
        "outputId": "38ca52bd-f4c2-4149-d4bc-522355ccf762"
      },
      "outputs": [
        {
          "name": "stdout",
          "output_type": "stream",
          "text": [
            "10\n"
          ]
        }
      ],
      "source": [
        "# Subtract 123 from the value\n",
        "my_dict['key1'] = 10\n",
        "print(my_dict['key1'])"
      ]
    },
    {
      "cell_type": "code",
      "execution_count": 41,
      "metadata": {
        "colab": {
          "base_uri": "https://localhost:8080/"
        },
        "id": "pX_34wHTxsvA",
        "outputId": "a0ac236c-33cd-4d17-dafb-df051b25c7f2"
      },
      "outputs": [
        {
          "name": "stdout",
          "output_type": "stream",
          "text": [
            "{'key1': 10, 'key2': [12, 23, 33], 'key3': ['item0', 'item1', 'item2'], 'key4': 456}\n"
          ]
        }
      ],
      "source": [
        "#adding new key and value\n",
        "my_dict['key4'] = 456\n",
        "print(my_dict)"
      ]
    },
    {
      "cell_type": "code",
      "execution_count": 40,
      "metadata": {
        "colab": {
          "base_uri": "https://localhost:8080/",
          "height": 35
        },
        "id": "AlYaoG6pAm1h",
        "outputId": "9016489e-ee4d-42e1-a15a-682459912fe2"
      },
      "outputs": [
        {
          "data": {
            "application/vnd.google.colaboratory.intrinsic+json": {
              "type": "string"
            },
            "text/plain": [
              "'value'"
            ]
          },
          "execution_count": 40,
          "metadata": {},
          "output_type": "execute_result"
        }
      ],
      "source": [
        "# Dictionary nested inside a dictionary nested inside a dictionary\n",
        "d = {'key1':{'nestkey':{'subnestkey':'value'}}}\n",
        "d['key1']['nestkey']['subnestkey']"
      ]
    },
    {
      "cell_type": "markdown",
      "metadata": {
        "id": "VBL4EzDOAm1i"
      },
      "source": [
        "## 3.5.2 A few Dictionary Methods\n",
        "\n",
        "There are a few methods we can call on a dictionary. Let's get a quick introduction to a few of them:"
      ]
    },
    {
      "cell_type": "code",
      "execution_count": null,
      "metadata": {
        "id": "U_Yu6WiSAm1i"
      },
      "outputs": [],
      "source": [
        "# Create a typical dictionary\n",
        "d = {'class1':32,'class2':30,'class3':34}"
      ]
    },
    {
      "cell_type": "code",
      "execution_count": null,
      "metadata": {
        "colab": {
          "base_uri": "https://localhost:8080/"
        },
        "id": "2J9mkXXuAm1i",
        "outputId": "677da671-650f-4706-f624-4319545c4467"
      },
      "outputs": [
        {
          "name": "stdout",
          "output_type": "stream",
          "text": [
            "dict_keys(['class1', 'class2', 'class3'])\n"
          ]
        }
      ],
      "source": [
        "# Method to return a list of all keys\n",
        "print(d.keys())"
      ]
    },
    {
      "cell_type": "code",
      "execution_count": null,
      "metadata": {
        "colab": {
          "base_uri": "https://localhost:8080/"
        },
        "id": "b3ox0X1RAm1i",
        "outputId": "b2ae2131-278c-4cb3-b80c-eae12ebd5953"
      },
      "outputs": [
        {
          "name": "stdout",
          "output_type": "stream",
          "text": [
            "dict_values([32, 30, 34])\n"
          ]
        }
      ],
      "source": [
        "# Method to grab all values\n",
        "print(d.values())"
      ]
    },
    {
      "cell_type": "code",
      "execution_count": null,
      "metadata": {
        "colab": {
          "base_uri": "https://localhost:8080/"
        },
        "id": "54HTKs8BAm1j",
        "outputId": "024fe4f3-fc08-4e35-d9bc-3ca68fac2270"
      },
      "outputs": [
        {
          "name": "stdout",
          "output_type": "stream",
          "text": [
            "dict_items([('class1', 32), ('class2', 30), ('class3', 34)])\n"
          ]
        }
      ],
      "source": [
        "# Method to return tuples of all items\n",
        "print(d.items())"
      ]
    },
    {
      "cell_type": "markdown",
      "metadata": {
        "id": "m9l5dJKrAm1j"
      },
      "source": [
        "# 4. if, elif, else Statements\n",
        "\n",
        "<code>if</code> Statements in Python allows us to tell the computer to perform alternative actions based on a certain set of results.\n",
        "\n",
        "Verbally, we can imagine we are telling the computer:\n",
        "\n",
        "\"Hey if this case happens, perform some action\"\n",
        "\n",
        "We can then expand the idea further with <code>elif</code> and <code>else</code> statements, which allow us to tell the computer:\n",
        "\n",
        "\"Hey if this case happens, perform some action. Else, if another case happens, perform some other action. Else, if *none* of the above cases happened, perform this action.\"\n",
        "\n",
        "Let's go ahead and look at the syntax format for <code>if</code> statements to get a better idea of this:\n",
        "\n",
        "    if case1:\n",
        "        perform action1\n",
        "    elif case2:\n",
        "        perform action2\n",
        "    else:\n",
        "        perform action3"
      ]
    },
    {
      "cell_type": "code",
      "execution_count": null,
      "metadata": {
        "id": "fB3AEQqiAm1j"
      },
      "outputs": [],
      "source": [
        "if False:\n",
        "    print(\"It is True\")"
      ]
    },
    {
      "cell_type": "code",
      "execution_count": null,
      "metadata": {
        "colab": {
          "base_uri": "https://localhost:8080/"
        },
        "id": "GYuqJunsAm1j",
        "outputId": "61f13e71-8592-4175-94ad-9ca158d408a0"
      },
      "outputs": [
        {
          "name": "stdout",
          "output_type": "stream",
          "text": [
            "positive\n"
          ]
        }
      ],
      "source": [
        "x = 4\n",
        "if x>0:\n",
        "    print('positive')\n",
        "else:\n",
        "    print('negative')"
      ]
    },
    {
      "cell_type": "code",
      "execution_count": null,
      "metadata": {
        "colab": {
          "base_uri": "https://localhost:8080/"
        },
        "id": "7gNdBjRmAm1j",
        "outputId": "af3dc0fd-83b1-4be3-a9a0-ea118ff94728",
        "scrolled": true
      },
      "outputs": [
        {
          "name": "stdout",
          "output_type": "stream",
          "text": [
            "Nothing else matters\n"
          ]
        }
      ],
      "source": [
        "step = 0\n",
        "\n",
        "if step > 10:\n",
        "    pass # the command that does nothing!\n",
        "    # the code\n",
        "elif step == 10: # Else If equivalent\n",
        "    pass\n",
        "    # the code\n",
        "elif step == 9:\n",
        "    quit() # Exit from the code or program !\n",
        "else: # otherwise\n",
        "    print(\"Nothing else matters\")"
      ]
    },
    {
      "cell_type": "markdown",
      "metadata": {
        "id": "cq7cLwIhAm1k"
      },
      "source": [
        "# 5. For Loops\n",
        "\n",
        "A <code>for</code> loop acts as an iterator in Python; it goes through items that are in a *sequence* or any other iterable item. Objects that we've learned about that we can iterate over include strings, lists, tuples, and even built-in iterables for dictionaries, such as keys or values.\n",
        "\n",
        "We've already seen the <code>for</code> statement a little bit in past lectures but now let's formalize our understanding.\n",
        "\n",
        "Here's the general format for a <code>for</code> loop in Python:\n",
        "\n",
        "    for item in object:\n",
        "        statements to do stuff"
      ]
    },
    {
      "cell_type": "code",
      "execution_count": null,
      "metadata": {
        "colab": {
          "base_uri": "https://localhost:8080/"
        },
        "id": "YuoI4LHaAm1k",
        "outputId": "b3ccd1b3-376d-4844-fbbf-2b145b63f9a7"
      },
      "outputs": [
        {
          "name": "stdout",
          "output_type": "stream",
          "text": [
            "1\n",
            "2\n",
            "3\n",
            "4\n",
            "5\n",
            "6\n",
            "7\n",
            "8\n",
            "9\n",
            "10\n"
          ]
        }
      ],
      "source": [
        "list1 = [1,2,3,4,5,6,7,8,9,10]\n",
        "\n",
        "for x in list1:\n",
        "    print(x)"
      ]
    },
    {
      "cell_type": "code",
      "execution_count": null,
      "metadata": {
        "colab": {
          "base_uri": "https://localhost:8080/"
        },
        "id": "XuOQkThrAm1l",
        "outputId": "dbc3bdef-8a69-4214-c2f4-a03d3f9b5172"
      },
      "outputs": [
        {
          "name": "stdout",
          "output_type": "stream",
          "text": [
            "Odd number:1\n",
            "Even number:2\n",
            "Odd number:3\n",
            "Even number:4\n",
            "Odd number:5\n",
            "Even number:6\n",
            "Odd number:7\n",
            "Even number:8\n",
            "Odd number:9\n",
            "Even number:10\n"
          ]
        }
      ],
      "source": [
        "for num in list1:\n",
        "    if num % 2 == 0:\n",
        "        print('Even number:{}'.format(num))\n",
        "    else:\n",
        "        print('Odd number:{}'.format(num))"
      ]
    },
    {
      "cell_type": "code",
      "execution_count": null,
      "metadata": {
        "colab": {
          "base_uri": "https://localhost:8080/"
        },
        "id": "KNw4PgUvAm1l",
        "outputId": "b6a61fa9-0474-430c-c961-876a6dff66b0"
      },
      "outputs": [
        {
          "name": "stdout",
          "output_type": "stream",
          "text": [
            "(2, 4)\n",
            "(6, 8)\n",
            "(10, 12)\n"
          ]
        }
      ],
      "source": [
        "list2 = [(2,4),(6,8),(10,12)]\n",
        "\n",
        "for tup in list2:\n",
        "    print(tup)"
      ]
    },
    {
      "cell_type": "code",
      "execution_count": null,
      "metadata": {
        "colab": {
          "base_uri": "https://localhost:8080/"
        },
        "id": "iFOwSqKBAm1l",
        "outputId": "1c0628ce-9be0-4d1c-a0a4-02a19a6031c2"
      },
      "outputs": [
        {
          "name": "stdout",
          "output_type": "stream",
          "text": [
            "2\n",
            "6\n",
            "10\n"
          ]
        }
      ],
      "source": [
        "# Now with unpacking!\n",
        "for (t1,t2) in list2:\n",
        "    print(t1)"
      ]
    },
    {
      "cell_type": "code",
      "execution_count": null,
      "metadata": {
        "colab": {
          "base_uri": "https://localhost:8080/"
        },
        "id": "KlXcLfSbAm1l",
        "outputId": "020b8f8d-bfa1-4507-f607-25ca089bcb54"
      },
      "outputs": [
        {
          "name": "stdout",
          "output_type": "stream",
          "text": [
            "[0, 1, 2, 3, 4, 5, 6, 7, 8, 9]\n"
          ]
        }
      ],
      "source": [
        "print(list(range(10)))"
      ]
    },
    {
      "cell_type": "code",
      "execution_count": null,
      "metadata": {
        "colab": {
          "base_uri": "https://localhost:8080/"
        },
        "id": "yKNRX1XbAm1m",
        "outputId": "40e759c7-f0be-4f7f-b480-4ad4eef93927"
      },
      "outputs": [
        {
          "name": "stdout",
          "output_type": "stream",
          "text": [
            "[0, 4, 16, 36, 64]\n"
          ]
        }
      ],
      "source": [
        "squares = []\n",
        "for x in range(0,10,2):\n",
        "    squares.append(x**2)\n",
        "print(squares)"
      ]
    },
    {
      "cell_type": "code",
      "execution_count": null,
      "metadata": {
        "colab": {
          "base_uri": "https://localhost:8080/"
        },
        "id": "IjWtjHpYAm1m",
        "outputId": "7ec637c5-ab6a-4c19-f633-caf11eb326d7"
      },
      "outputs": [
        {
          "name": "stdout",
          "output_type": "stream",
          "text": [
            "[36, 64]\n"
          ]
        }
      ],
      "source": [
        "squares = [x**2 for x in range(0,10,2) if x>5]\n",
        "print(squares)"
      ]
    },
    {
      "cell_type": "markdown",
      "metadata": {
        "id": "1o5RH9hdAm1n"
      },
      "source": [
        "# 6. while Loops\n",
        "\n",
        "The <code>while</code> statement in Python is one of most general ways to perform iteration. A <code>while</code> statement will repeatedly execute a single statement or group of statements as long as the condition is true. The reason it is called a 'loop' is because the code statements are looped through over and over again until the condition is no longer met.\n",
        "\n",
        "The general format of a while loop is:\n",
        "\n",
        "    while test:\n",
        "        code statements\n",
        "    else:\n",
        "        final code statements\n",
        "\n",
        "Let’s look at a few simple <code>while</code> loops in action."
      ]
    },
    {
      "cell_type": "code",
      "execution_count": null,
      "metadata": {
        "colab": {
          "base_uri": "https://localhost:8080/"
        },
        "id": "r_t12xsYAm1n",
        "outputId": "2af1e421-1216-4b73-b5d9-323e2f79cb5e"
      },
      "outputs": [
        {
          "name": "stdout",
          "output_type": "stream",
          "text": [
            "x is currently:  0\n",
            " x is still less than 10, adding 1 to x\n",
            "x is currently:  1\n",
            " x is still less than 10, adding 1 to x\n",
            "x is currently:  2\n",
            " x is still less than 10, adding 1 to x\n",
            "x is currently:  3\n",
            " x is still less than 10, adding 1 to x\n",
            "x is currently:  4\n",
            " x is still less than 10, adding 1 to x\n",
            "x is currently:  5\n",
            " x is still less than 10, adding 1 to x\n",
            "x is currently:  6\n",
            " x is still less than 10, adding 1 to x\n",
            "x is currently:  7\n",
            " x is still less than 10, adding 1 to x\n",
            "x is currently:  8\n",
            " x is still less than 10, adding 1 to x\n",
            "x is currently:  9\n",
            " x is still less than 10, adding 1 to x\n",
            "All Done!\n"
          ]
        }
      ],
      "source": [
        "x = 0\n",
        "while x < 10:\n",
        "    print('x is currently: ',x)\n",
        "    print(' x is still less than 10, adding 1 to x')\n",
        "    x+=1\n",
        "\n",
        "print('All Done!')"
      ]
    },
    {
      "cell_type": "markdown",
      "metadata": {
        "id": "_Pz31mDbAm1q"
      },
      "source": [
        "# 8. Functions\n",
        "Let's see how to build out a function's syntax in Python. It has the following form:"
      ]
    },
    {
      "cell_type": "code",
      "execution_count": 42,
      "metadata": {
        "id": "NZfpy5FWAm1r"
      },
      "outputs": [],
      "source": [
        "def name_of_function(arg1,arg2):\n",
        "    '''\n",
        "    This is where the function's Document String (docstring) goes\n",
        "    '''\n",
        "    # Do stuff here\n",
        "    # Return desired result"
      ]
    },
    {
      "cell_type": "code",
      "execution_count": 43,
      "metadata": {
        "colab": {
          "base_uri": "https://localhost:8080/",
          "height": 35
        },
        "id": "71RKAdmzyxD9",
        "outputId": "a5fc0b90-da74-4544-e1db-470688eb6150"
      },
      "outputs": [
        {
          "data": {
            "application/vnd.google.colaboratory.intrinsic+json": {
              "type": "string"
            },
            "text/plain": [
              "\"\\n    This is where the function's Document String (docstring) goes\\n    \""
            ]
          },
          "execution_count": 43,
          "metadata": {},
          "output_type": "execute_result"
        }
      ],
      "source": [
        "name_of_function.__doc__"
      ]
    },
    {
      "cell_type": "code",
      "execution_count": null,
      "metadata": {
        "colab": {
          "base_uri": "https://localhost:8080/"
        },
        "id": "cV09TI7gAm1r",
        "outputId": "be2a85c9-f64d-4156-9cb0-11b10e019c7b"
      },
      "outputs": [
        {
          "name": "stdout",
          "output_type": "stream",
          "text": [
            "hello\n"
          ]
        }
      ],
      "source": [
        "def say_hello():\n",
        "    print('hello')\n",
        "\n",
        "say_hello()"
      ]
    },
    {
      "cell_type": "code",
      "execution_count": null,
      "metadata": {
        "colab": {
          "base_uri": "https://localhost:8080/"
        },
        "id": "1K44IpuHAm1s",
        "outputId": "86a2cbcf-a1d0-48dd-aac3-348f6aa098d3"
      },
      "outputs": [
        {
          "name": "stdout",
          "output_type": "stream",
          "text": [
            "15\n"
          ]
        }
      ],
      "source": [
        "def add_num(num1,num2):\n",
        "    return num1+num2\n",
        "\n",
        "sum = add_num(5,10)\n",
        "print(sum)"
      ]
    },
    {
      "cell_type": "code",
      "execution_count": null,
      "metadata": {
        "colab": {
          "base_uri": "https://localhost:8080/"
        },
        "id": "cAo_a05HAm1s",
        "outputId": "9547ab03-939b-404c-96ae-e8a7af99cd82"
      },
      "outputs": [
        {
          "name": "stdout",
          "output_type": "stream",
          "text": [
            "15\n",
            "18\n"
          ]
        }
      ],
      "source": [
        "def add_num(num1, num2=10):\n",
        "    return num1+num2\n",
        "\n",
        "sum = add_num(5)\n",
        "print(sum)\n",
        "\n",
        "sum = add_num(1,17)\n",
        "print(sum)"
      ]
    },
    {
      "cell_type": "code",
      "execution_count": 44,
      "metadata": {
        "colab": {
          "base_uri": "https://localhost:8080/",
          "height": 141
        },
        "id": "XbmoSonyzJZ2",
        "outputId": "1a243ba3-381b-4660-9e01-f07ee61c404e"
      },
      "outputs": [
        {
          "ename": "SyntaxError",
          "evalue": "ignored",
          "output_type": "error",
          "traceback": [
            "\u001b[0;36m  File \u001b[0;32m\"<ipython-input-44-f1d0f97823a8>\"\u001b[0;36m, line \u001b[0;32m1\u001b[0m\n\u001b[0;31m    def add_num(num1=10, num2):\u001b[0m\n\u001b[0m                         ^\u001b[0m\n\u001b[0;31mSyntaxError\u001b[0m\u001b[0;31m:\u001b[0m non-default argument follows default argument\n"
          ]
        }
      ],
      "source": [
        "def add_num(num1=10, num2):\n",
        "    return num1+num2\n",
        "\n",
        "sum = add_num(5)\n",
        "print(sum)\n",
        "\n",
        "sum = add_num(1,17)\n",
        "print(sum)"
      ]
    },
    {
      "cell_type": "markdown",
      "metadata": {
        "id": "zirG-jRUAm1t"
      },
      "source": [
        "## 8.1 Lambda"
      ]
    },
    {
      "cell_type": "code",
      "execution_count": null,
      "metadata": {
        "colab": {
          "base_uri": "https://localhost:8080/"
        },
        "id": "bzPOKNpNAm1t",
        "outputId": "571bc080-666a-4760-97d4-8767c2c9abb7"
      },
      "outputs": [
        {
          "name": "stdout",
          "output_type": "stream",
          "text": [
            "125\n"
          ]
        }
      ],
      "source": [
        "function = lambda x, y: x**y\n",
        "print(function(5,3))"
      ]
    },
    {
      "cell_type": "markdown",
      "metadata": {
        "id": "nAsUPQxPAm1t"
      },
      "source": [
        "# 9. Map function"
      ]
    },
    {
      "cell_type": "markdown",
      "metadata": {
        "id": "c-zTi0U7z855"
      },
      "source": [
        "map() function returns a map object(which is an iterator) of the results after applying the given function to each item of a given iterable (list, tuple etc.)"
      ]
    },
    {
      "cell_type": "code",
      "execution_count": null,
      "metadata": {
        "colab": {
          "base_uri": "https://localhost:8080/"
        },
        "id": "XkFsPk85Am1t",
        "outputId": "83b503d2-211f-438f-df27-896b5132f5cf"
      },
      "outputs": [
        {
          "name": "stdout",
          "output_type": "stream",
          "text": [
            "[0, 1, 2, 3, 4, 5, 6, 7, 8, 9]\n",
            "[0, 1, 4, 9, 16, 25, 36, 49, 64, 81]\n"
          ]
        }
      ],
      "source": [
        "square_function = lambda x: x**2\n",
        "nums=list(range(10))\n",
        "print(nums)\n",
        "\n",
        "squared_nums= list(map(square_function,nums))\n",
        "print(squared_nums)"
      ]
    },
    {
      "cell_type": "markdown",
      "metadata": {
        "id": "wCj6GqE7Am1u"
      },
      "source": [
        "# 10. Data casting"
      ]
    },
    {
      "cell_type": "code",
      "execution_count": null,
      "metadata": {
        "colab": {
          "base_uri": "https://localhost:8080/"
        },
        "id": "QriOR5SRAm1u",
        "outputId": "8ab4bfd5-8eae-45a5-f2e9-e481e7bc45d1"
      },
      "outputs": [
        {
          "data": {
            "text/plain": [
              "123"
            ]
          },
          "execution_count": 77,
          "metadata": {},
          "output_type": "execute_result"
        }
      ],
      "source": [
        "int(\"123\")"
      ]
    },
    {
      "cell_type": "code",
      "execution_count": null,
      "metadata": {
        "colab": {
          "base_uri": "https://localhost:8080/",
          "height": 35
        },
        "id": "5qZC9n89Am1v",
        "outputId": "66f802ad-0e04-42e3-e8d4-d93bba425446"
      },
      "outputs": [
        {
          "data": {
            "application/vnd.google.colaboratory.intrinsic+json": {
              "type": "string"
            },
            "text/plain": [
              "'123'"
            ]
          },
          "execution_count": 78,
          "metadata": {},
          "output_type": "execute_result"
        }
      ],
      "source": [
        "str(123)"
      ]
    },
    {
      "cell_type": "code",
      "execution_count": null,
      "metadata": {
        "colab": {
          "base_uri": "https://localhost:8080/"
        },
        "id": "3CKXSXSLAm1w",
        "outputId": "2302d562-6d2e-430f-9a71-b879834703e8"
      },
      "outputs": [
        {
          "data": {
            "text/plain": [
              "1.66"
            ]
          },
          "execution_count": 79,
          "metadata": {},
          "output_type": "execute_result"
        }
      ],
      "source": [
        "float(\"1.66\")"
      ]
    },
    {
      "cell_type": "code",
      "execution_count": null,
      "metadata": {
        "colab": {
          "base_uri": "https://localhost:8080/"
        },
        "id": "IDNvmTK3Am1z",
        "outputId": "34d0930f-f39e-4d40-af89-5ee1250a3389"
      },
      "outputs": [
        {
          "name": "stdout",
          "output_type": "stream",
          "text": [
            "['H', 'e', 'l', 'l', 'o', ' ', 'W', 'o', 'r', 'l', 'd']\n"
          ]
        }
      ],
      "source": [
        "list_from_string = list(\"Hello World\")\n",
        "\n",
        "print(list_from_string)"
      ]
    },
    {
      "cell_type": "code",
      "execution_count": null,
      "metadata": {
        "id": "JAkJ99hKAm10"
      },
      "outputs": [],
      "source": [
        "my_list = ['a','b','c']\n",
        "my_tuple = (1,2,3)\n",
        "my_set = {10,11,12}\n",
        "my_dict = {'A':1,'B':2,'C':3}"
      ]
    },
    {
      "cell_type": "code",
      "execution_count": null,
      "metadata": {
        "colab": {
          "base_uri": "https://localhost:8080/"
        },
        "id": "xT-GIv0xAm10",
        "outputId": "c511952a-69d8-44e3-cb13-92101529ce8c"
      },
      "outputs": [
        {
          "name": "stdout",
          "output_type": "stream",
          "text": [
            "[1, 2, 3]\n"
          ]
        }
      ],
      "source": [
        "list1 = list(my_tuple)\n",
        "print(list1)"
      ]
    },
    {
      "cell_type": "code",
      "execution_count": null,
      "metadata": {
        "colab": {
          "base_uri": "https://localhost:8080/"
        },
        "id": "KM1iNOOFAm10",
        "outputId": "72795fd0-c595-4abb-e124-e8f02e1b85fc"
      },
      "outputs": [
        {
          "name": "stdout",
          "output_type": "stream",
          "text": [
            "[10, 11, 12]\n"
          ]
        }
      ],
      "source": [
        "list2 = list(my_set)\n",
        "print(list2)"
      ]
    },
    {
      "cell_type": "code",
      "execution_count": null,
      "metadata": {
        "colab": {
          "base_uri": "https://localhost:8080/"
        },
        "id": "6zetWtYBAm10",
        "outputId": "1499bee5-cc82-4d97-95d9-9f2c475d9209"
      },
      "outputs": [
        {
          "name": "stdout",
          "output_type": "stream",
          "text": [
            "['A', 'B', 'C']\n"
          ]
        }
      ],
      "source": [
        "list3 = list(my_dict)\n",
        "print(list3)"
      ]
    },
    {
      "cell_type": "markdown",
      "metadata": {
        "id": "Kuh94Q2XAm11"
      },
      "source": [
        "# **Notes** <p style=\"color:red;\"> Assignments are pointers to values !"
      ]
    },
    {
      "cell_type": "code",
      "execution_count": null,
      "metadata": {
        "colab": {
          "base_uri": "https://localhost:8080/"
        },
        "id": "W1_3fXnmAm11",
        "outputId": "45f62a62-af65-4e91-8dc5-eb8ca94b842e"
      },
      "outputs": [
        {
          "name": "stdout",
          "output_type": "stream",
          "text": [
            "[1, 2, 3]\n",
            "[1, 2, 3]\n",
            "[1, 2]\n",
            "[1, 2, 3]\n"
          ]
        }
      ],
      "source": [
        "a = [1, 2, 3]\n",
        "b = a\n",
        "print(a)\n",
        "print(b)\n",
        "\n",
        "\n",
        "a.append(4)\n",
        "print(a)\n",
        "print(b)"
      ]
    },
    {
      "cell_type": "markdown",
      "metadata": {
        "id": "DrT8kYjlAm11"
      },
      "source": [
        "* Solution:"
      ]
    },
    {
      "cell_type": "code",
      "execution_count": null,
      "metadata": {
        "colab": {
          "base_uri": "https://localhost:8080/"
        },
        "id": "HHwbKnxJAm11",
        "outputId": "c2fc6d1e-e20b-460c-eae8-d4c842d9c82c"
      },
      "outputs": [
        {
          "name": "stdout",
          "output_type": "stream",
          "text": [
            "[1, 2, 3, 4]\n"
          ]
        }
      ],
      "source": [
        "c = a.copy()\n",
        "print(c)"
      ]
    },
    {
      "cell_type": "code",
      "execution_count": null,
      "metadata": {
        "colab": {
          "base_uri": "https://localhost:8080/"
        },
        "id": "c06COslLAm12",
        "outputId": "e5b41a42-9152-4bba-f9c0-01bd0e2ef8d6"
      },
      "outputs": [
        {
          "name": "stdout",
          "output_type": "stream",
          "text": [
            "[1, 2, 3, 4, 5, 6]\n",
            "[1, 2, 3, 4, 5, 6]\n",
            "[1, 2, 3, 4]\n"
          ]
        }
      ],
      "source": [
        "a.extend([5,6])\n",
        "print(a)\n",
        "print(b)\n",
        "print(c)"
      ]
    },
    {
      "cell_type": "markdown",
      "metadata": {
        "id": "7wMztZIfg7uL"
      },
      "source": [
        "#More Information:\n",
        "#####https://www.w3schools.com/python\n",
        "#####https://docs.python.org/3/tutorial"
      ]
    }
  ],
  "metadata": {
    "colab": {
      "provenance": []
    },
    "kernelspec": {
      "display_name": "Python 3",
      "language": "python",
      "name": "python3"
    },
    "language_info": {
      "codemirror_mode": {
        "name": "ipython",
        "version": 3
      },
      "file_extension": ".py",
      "mimetype": "text/x-python",
      "name": "python",
      "nbconvert_exporter": "python",
      "pygments_lexer": "ipython3",
      "version": "3.8.5"
    }
  },
  "nbformat": 4,
  "nbformat_minor": 0
}
